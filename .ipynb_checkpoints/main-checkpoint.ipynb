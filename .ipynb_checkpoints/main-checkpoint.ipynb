{
 "cells": [
  {
   "cell_type": "code",
   "execution_count": 28,
   "metadata": {},
   "outputs": [
    {
     "name": "stdout",
     "output_type": "stream",
     "text": [
      "/home/hyunseok/enssamble/settings/kaggle_data_file_name.json\n",
      "/home/hyunseok/enssamble/settings/kaggle_data_file_name copy.json\n",
      "train_problem is loaded: /home/hyunseok/enssamble/data/kaggle/arc-agi_training_challenges.json\n",
      "train_target_goal is loaded: /home/hyunseok/enssamble/data/kaggle/arc-agi_training_solutions.json\n",
      "evaluation_problem is loaded: /home/hyunseok/enssamble/data/kaggle/arc-agi_evaluation_challenges.json\n",
      "evaluation_target_goal is loaded: /home/hyunseok/enssamble/data/kaggle/arc-agi_evaluation_solutions.json\n",
      "test_problem is loaded: /home/hyunseok/enssamble/data/kaggle/arc-agi_test_challenges.json\n",
      "predicted_target_goal is loaded: /home/hyunseok/enssamble/data/kaggle/arc-agi_test_challenges.json\n",
      "train data is set\n"
     ]
    }
   ],
   "source": [
    "import os, gc\n",
    "import sys, pdb\n",
    "import copy, time\n",
    "import json, random\n",
    "\n",
    "import numpy as np\n",
    "import pandas as pd\n",
    "import seaborn as sns\n",
    "from scipy import stats\n",
    "from pathlib import Path\n",
    "\n",
    "import matplotlib\n",
    "import os\n",
    "\n",
    "import torch\n",
    "\n",
    "from matplotlib import colors\n",
    "import matplotlib.pyplot as plt\n",
    "from colorama import Style, Fore\n",
    "# %matplotlib inline ipnyb\n",
    "\n",
    "from dataloader.my_loader import MyDataLoader\n",
    "from dataloader.OAutoEncoder_loader import ARCDataset\n",
    "\n",
    "from torch.utils.data import DataLoader, Dataset\n",
    "from torchvision import transforms, datasets\n",
    "from visualization.my_vis import ARCPlottor\n",
    "\n",
    "\n",
    "from models.O_Auto_Encoder import *\n",
    "\n",
    "for dirname, _, filenames in os.walk('/home/hyunseok/enssamble/settings'):\n",
    "    for filename in filenames:\n",
    "        print(os.path.join(dirname, filename))\n",
    "\n",
    "local_path = \"/home/hyunseok/enssamble/data/kaggle/\"\n",
    "with open(\"/home/hyunseok/enssamble/settings/kaggle_data_file_name.json\",'r') as file:\n",
    "    path_dict = json.load(file)\n",
    "    data = MyDataLoader(\"arcprize\", path_dict, local_path) \n",
    "    data.cur_data_mode(\"train\")\n",
    "\n",
    "plotter = ARCPlottor()"
   ]
  },
  {
   "cell_type": "code",
   "execution_count": 101,
   "metadata": {},
   "outputs": [
    {
     "name": "stdout",
     "output_type": "stream",
     "text": [
      "inputs: 0\n",
      "features: 50\n",
      "columns: 50\n"
     ]
    }
   ],
   "source": [
    "!g++ -pthread -lpthread -O3 -std=c++17 -o ./SkleanTree ./models/SkleanTree.cpp\n",
    "!./SkleanTree"
   ]
  },
  {
   "cell_type": "code",
   "execution_count": 5,
   "metadata": {},
   "outputs": [
    {
     "name": "stdout",
     "output_type": "stream",
     "text": [
      "101\n",
      "Epoch : 201, Loss: 0.04516, Lowest Loss: 0.04439"
     ]
    },
    {
     "data": {
      "image/png": "[encoded data removed]",
      "text/plain": [
       "<Figure size 1000x500 with 1 Axes>"
      ]
     },
     "metadata": {},
     "output_type": "display_data"
    },
    {
     "name": "stderr",
     "output_type": "stream",
     "text": [
      "/tmp/ipykernel_1942749/1753061032.py:29: FutureWarning: You are using `torch.load` with `weights_only=False` (the current default value), which uses the default pickle module implicitly. It is possible to construct malicious pickle data which will execute arbitrary code during unpickling (See https://github.com/pytorch/pytorch/blob/main/SECURITY.md#untrusted-models for more details). In a future release, the default value for `weights_only` will be flipped to `True`. This limits the functions that could be executed during unpickling. Arbitrary objects will no longer be allowed to be loaded via this mode unless they are explicitly allowlisted by the user via `torch.serialization.add_safe_globals`. We recommend you start setting `weights_only=True` for any use case where you don't have full control of the loaded file. Please open an issue on GitHub for any issues related to this experimental feature.\n",
      "  model.load_state_dict(torch.load('model.pth'))\n"
     ]
    }
   ],
   "source": [
    "BASE_FOLDER = '/home/hyunseok/enssamble/data/kaggle/'\n",
    "file_list = [\n",
    "    f'{BASE_FOLDER}/arc-agi_training_challenges.json',\n",
    "    f'{BASE_FOLDER}/arc-agi_evaluation_challenges.json',\n",
    "    f'{BASE_FOLDER}/arc-agi_test_challenges.json'\n",
    "\n",
    "]\n",
    "\n",
    "device = torch.device('cuda' if torch.cuda.is_available() else 'cpu')\n",
    "\n",
    "\n",
    "train_dataset = ARCDataset(file_list)\n",
    "train_dataset.set_dataset()\n",
    "train_loader = DataLoader(train_dataset, batch_size=256, shuffle=True)\n",
    "\n",
    "Dimension = train_dataset.dim\n",
    "Keys = train_dataset.keys\n",
    "\n",
    "IN_DIM = 100 + 1\n",
    "print(IN_DIM)\n",
    "OUT_DIM = 100\n",
    "LATENT_DIM = 1024\n",
    "model = LSTM(IN_DIM, OUT_DIM, LATENT_DIM).to(device)\n",
    "criterion = nn.MSELoss()\n",
    "optimizer = optim.Adam(model.parameters(), lr=0.01)\n",
    "training = Training(model, train_loader, criterion, optimizer, device)\n",
    "training.train()\n",
    "\n",
    "model.load_state_dict(torch.load('model.pth'))\n",
    "cmap = colors.ListedColormap(\n",
    "    ['#000000', '#0074D9','#FF4136','#2ECC40','#FFDC00',\n",
    "     '#AAAAAA', '#F012BE', '#FF851B', '#7FDBFF', '#870C25'])\n",
    "\n",
    "norm = colors.Normalize(vmin=0, vmax=10)\n",
    "sanity = Prediction(model, train_dataset, Dimension, cmap, norm, device)\n",
    "\n"
   ]
  },
  {
   "cell_type": "code",
   "execution_count": null,
   "metadata": {},
   "outputs": [],
   "source": [
    "def plot_pic(x):\n",
    "    plt.imshow(np.array(x), cmap=cmap, norm=norm)\n",
    "    plt.show()\n",
    "for i in range(100):\n",
    "    result = sanity.predict(model,[sanity.data.data[i][1],sanity.data.data[i][2]])\n",
    "    print(result)\n",
    "    output1 = sanity.remove_tail_zeros(sanity.data.data[i][0], torch.round(result * 9), 'out')\n",
    "    plot_pic(output1)"
   ]
  },
  {
   "cell_type": "code",
   "execution_count": 24,
   "metadata": {},
   "outputs": [],
   "source": [
    "test_dataset = ARCDataset(f'{BASE_FOLDER}/arc-agi_test_challenges.json', 'test', dim=Dimension, keys=Keys)\n",
    "test_dataset.set_dataset()\n",
    "pred = Prediction(model, test_dataset, Dimension, cmap, norm, device)"
   ]
  },
  {
   "cell_type": "code",
   "execution_count": null,
   "metadata": {},
   "outputs": [],
   "source": [
    "test_dataset = ARCDataset(f'{BASE_FOLDER}/arc-agi-.json', 'test', dim=Dimension, keys=Keys)\n",
    "test_dataset.set_dataset()\n",
    "pred = Prediction(model, test_dataset, Dimension, cmap, norm, device)"
   ]
  },
  {
   "cell_type": "code",
   "execution_count": null,
   "metadata": {},
   "outputs": [],
   "source": [
    "for i in range(len(pred.data)):\n",
    "    result = pred.predict(model,[pred.data.data[i][1],pred.data.data[i][2]])\n",
    "    output1 = pred.remove_tail_zeros(pred.data.data[i][0], torch.round(result * 9), 'out')\n",
    "    plot_pic(output1)"
   ]
  },
  {
   "cell_type": "code",
   "execution_count": 14,
   "metadata": {},
   "outputs": [],
   "source": [
    "from models.color_counter import *\n",
    "from models.color_counter_dsl import *\n",
    "from models.different_solvers import *"
   ]
  },
  {
   "cell_type": "code",
   "execution_count": 16,
   "metadata": {},
   "outputs": [
    {
     "data": {
      "text/plain": [
       "<function models.different_solvers.check_repeating(task, has_complete=False)>"
      ]
     },
     "execution_count": 16,
     "metadata": {},
     "output_type": "execute_result"
    }
   ],
   "source": []
  },
  {
   "cell_type": "code",
   "execution_count": 15,
   "metadata": {},
   "outputs": [],
   "source": [
    "# ..................................................................................... 1\n",
    "def ganswer_answer(ganswer):\n",
    "\n",
    "    answer = []\n",
    "    for j in range(len(ganswer)):\n",
    "        ganswer_j = ganswer[j].tolist()\n",
    "\n",
    "        if (ganswer_j not in answer):\n",
    "            answer.append(ganswer_j)\n",
    "\n",
    "    return answer\n",
    "\n",
    "# ..................................................................................... 2\n",
    "def ganswer_answer_1(ganswer):\n",
    "\n",
    "    answer = []\n",
    "    for j in range(len(ganswer)):\n",
    "        ganswer_j = ganswer[j]\n",
    "\n",
    "        if (ganswer_j not in answer):\n",
    "            answer.append(ganswer_j)\n",
    "\n",
    "    return answer\n",
    "\n",
    "# ..................................................................................... 3\n",
    "def prn_plus(prn, answer):\n",
    "\n",
    "    for j in range(len(answer)):\n",
    "        prn = prn + [answer[j]]\n",
    "\n",
    "        if (j == 0):\n",
    "            prn = prn + [answer[j]]\n",
    "\n",
    "    return prn\n",
    "\n",
    "# ..................................................................................... 4\n",
    "def prn_select_2(prn):\n",
    "    if (len(prn) > 2):\n",
    "\n",
    "        value_list = []\n",
    "        string_list = []\n",
    "        for el in prn:\n",
    "            value = 0\n",
    "            for i in range(len(prn)):\n",
    "                if el == prn[i]:\n",
    "                    value +=1\n",
    "            value_list.append(value)\n",
    "            string_list.append(str(el))\n",
    "\n",
    "        prn_df  = pd.DataFrame({'prn': prn , 'value': value_list, 'string': string_list})\n",
    "        prn_df1 = prn_df.drop_duplicates(subset=['string'])\n",
    "        prn_df2 = prn_df1.sort_values(by='value', ascending=False)\n",
    "\n",
    "        prn = prn_df2['prn'].values.tolist()[:2]\n",
    "\n",
    "    return prn\n",
    "\n",
    "# ..................................................................................... 5\n",
    "cmap = colors.ListedColormap(\n",
    "    ['#000000', '#0074D9','#FF4136','#2ECC40','#FFDC00',\n",
    "     '#AAAAAA', '#F012BE', '#FF851B', '#7FDBFF', '#870C25'])\n",
    "\n",
    "norm = colors.Normalize(vmin=0, vmax=9)\n",
    "color_list = [\"black\", \"blue\", \"red\", \"green\", \"yellow\", \"gray\", \"magenta\", \"orange\", \"sky\", \"brown\"]\n",
    "\n",
    "def plot_pic(x):\n",
    "    plt.imshow(np.array(x), cmap=cmap, norm=norm)\n",
    "    plt.show()"
   ]
  },
  {
   "cell_type": "code",
   "execution_count": null,
   "metadata": {},
   "outputs": [],
   "source": [
    "task_id = pred.data.data[0][0]\n",
    "task = data.cur_problem[task_id]"
   ]
  },
  {
   "cell_type": "code",
   "execution_count": 35,
   "metadata": {},
   "outputs": [
    {
     "data": {
      "text/plain": [
       "array([[7, 0, 7],\n",
       "       [7, 0, 7],\n",
       "       [7, 7, 0]])"
      ]
     },
     "execution_count": 35,
     "metadata": {},
     "output_type": "execute_result"
    }
   ],
   "source": [
    "test_input = np.array(task['test'][0]['input'])\n",
    "test_input"
   ]
  },
  {
   "cell_type": "code",
   "execution_count": 36,
   "metadata": {},
   "outputs": [
    {
     "ename": "IndexError",
     "evalue": "list index out of range",
     "output_type": "error",
     "traceback": [
      "\u001b[0;31m---------------------------------------------------------------------------\u001b[0m",
      "\u001b[0;31mIndexError\u001b[0m                                Traceback (most recent call last)",
      "Cell \u001b[0;32mIn[36], line 60\u001b[0m\n\u001b[1;32m     57\u001b[0m        prn \u001b[38;5;241m=\u001b[39m prn_plus(prn, answer)\n\u001b[1;32m     59\u001b[0m \u001b[38;5;66;03m# ............................................................................... 3 - Symmetry Repairing\u001b[39;00m\n\u001b[0;32m---> 60\u001b[0m basic_task \u001b[38;5;241m=\u001b[39m \u001b[43mCreate\u001b[49m\u001b[43m(\u001b[49m\u001b[43mtask\u001b[49m\u001b[43m,\u001b[49m\u001b[43m \u001b[49m\u001b[43mi\u001b[49m\u001b[43m)\u001b[49m\n\u001b[1;32m     61\u001b[0m ganswer \u001b[38;5;241m=\u001b[39m symmetry_repairing(basic_task)\n\u001b[1;32m     63\u001b[0m \u001b[38;5;28;01mif\u001b[39;00m (ganswer \u001b[38;5;241m!=\u001b[39m \u001b[38;5;241m-\u001b[39m\u001b[38;5;241m1\u001b[39m):\n",
      "File \u001b[0;32m~/enssamble/models/color_counter_dsl.py:34\u001b[0m, in \u001b[0;36mCreate\u001b[0;34m(task, task_id)\u001b[0m\n\u001b[1;32m     32\u001b[0m Input \u001b[38;5;241m=\u001b[39m [Defensive_Copy(task[\u001b[38;5;124m'\u001b[39m\u001b[38;5;124mtrain\u001b[39m\u001b[38;5;124m'\u001b[39m][i][\u001b[38;5;124m'\u001b[39m\u001b[38;5;124minput\u001b[39m\u001b[38;5;124m'\u001b[39m]) \u001b[38;5;28;01mfor\u001b[39;00m i \u001b[38;5;129;01min\u001b[39;00m \u001b[38;5;28mrange\u001b[39m(n)]\n\u001b[1;32m     33\u001b[0m Output \u001b[38;5;241m=\u001b[39m [Defensive_Copy(task[\u001b[38;5;124m'\u001b[39m\u001b[38;5;124mtrain\u001b[39m\u001b[38;5;124m'\u001b[39m][i][\u001b[38;5;124m'\u001b[39m\u001b[38;5;124moutput\u001b[39m\u001b[38;5;124m'\u001b[39m]) \u001b[38;5;28;01mfor\u001b[39;00m i \u001b[38;5;129;01min\u001b[39;00m \u001b[38;5;28mrange\u001b[39m(n)]\n\u001b[0;32m---> 34\u001b[0m Input\u001b[38;5;241m.\u001b[39mappend(Defensive_Copy(\u001b[43mtask\u001b[49m\u001b[43m[\u001b[49m\u001b[38;5;124;43m'\u001b[39;49m\u001b[38;5;124;43mtest\u001b[39;49m\u001b[38;5;124;43m'\u001b[39;49m\u001b[43m]\u001b[49m\u001b[43m[\u001b[49m\u001b[43mtask_id\u001b[49m\u001b[43m]\u001b[49m[\u001b[38;5;124m'\u001b[39m\u001b[38;5;124minput\u001b[39m\u001b[38;5;124m'\u001b[39m]))\n\u001b[1;32m     35\u001b[0m \u001b[38;5;28;01mreturn\u001b[39;00m Input, Output\n",
      "\u001b[0;31mIndexError\u001b[0m: list index out of range"
     ]
    }
   ],
   "source": [
    " # ............................................................................... 1 - Different Solvers\n",
    "if check_repeating(task, True):\n",
    "    ganswer = predict_repeating(test_input)\n",
    "\n",
    "    if (ganswer!= []):\n",
    "        answer = ganswer_answer(ganswer)\n",
    "        prn = prn_plus(prn, answer)\n",
    "\n",
    "# ________________________________________________________\n",
    "if check_grid(task) and check_sub_grid_2x(task):\n",
    "    ganswer = predict_transforms_grid_2x(task, test_input)\n",
    "\n",
    "    if (ganswer!= []):\n",
    "        answer = ganswer_answer(ganswer)\n",
    "        prn = prn_plus(prn, answer)\n",
    "\n",
    "# ________________________________________________________\n",
    "if check_grid(task) and check_chess(task, False, True):\n",
    "    ganswer = predict_chess(grid_filter(test_input))\n",
    "\n",
    "    if (ganswer!= []):\n",
    "        answer = ganswer_answer(ganswer)\n",
    "        prn = prn_plus(prn, answer)\n",
    "\n",
    "# ________________________________________________________\n",
    "if check_tiles_shape(task, True):\n",
    "    ganswer = predict_tiles_shape(task, test_input)\n",
    "\n",
    "    if (ganswer!= []):\n",
    "        answer = ganswer_answer(ganswer)\n",
    "        prn = prn_plus(prn, answer)\n",
    "\n",
    "# ________________________________________________________\n",
    "if check_grid(task) and check_grid_transforms(task):\n",
    "    ganswer = predict_grid_transforms(task, test_input)\n",
    "\n",
    "    if (ganswer!= []):\n",
    "        answer = ganswer_answer(ganswer)\n",
    "        prn = prn_plus(prn, answer)\n",
    "\n",
    "# ________________________________________________________\n",
    "if check_sub_mask(task):\n",
    "    ganswer = predict_repeating_mask(test_input)\n",
    "\n",
    "    if (ganswer!= []):\n",
    "        answer = ganswer_answer(ganswer)\n",
    "        prn = prn_plus(prn, answer)\n",
    "\n",
    "# ............................................................................... 2 - Sklearn tree\n",
    "if check_subitem(task):\n",
    "    train_t = format_features(task)\n",
    "    test_t = make_features(test_input)\n",
    "    ganswer = tree1(train_t, test_t, test_input)\n",
    "\n",
    "    if (ganswer!= []):\n",
    "        answer = ganswer_answer(ganswer)\n",
    "        prn = prn_plus(prn, answer)\n",
    "\n",
    "# ............................................................................... 3 - Symmetry Repairing\n",
    "basic_task = Create(task, i)\n",
    "ganswer = symmetry_repairing(basic_task)\n",
    "\n",
    "if (ganswer != -1):\n",
    "    answer = ganswer_answer_1(ganswer)\n",
    "    prn = prn_plus(prn, answer)\n",
    "\n",
    "# # ............................................................................... 4 - Colors Counter\n",
    "# basic_task = Create(task, i)\n",
    "# answer = colors_counter(basic_task)\n",
    "\n",
    "# if (answer != -1):\n",
    "#     answer = [answer]\n",
    "#     prn = prn_plus(prn, answer)\n"
   ]
  },
  {
   "cell_type": "code",
   "execution_count": null,
   "metadata": {},
   "outputs": [],
   "source": []
  }
 ],
 "metadata": {
  "kernelspec": {
   "display_name": "enssamble",
   "language": "python",
   "name": "python3"
  },
  "language_info": {
   "codemirror_mode": {
    "name": "ipython",
    "version": 3
   },
   "file_extension": ".py",
   "mimetype": "text/x-python",
   "name": "python",
   "nbconvert_exporter": "python",
   "pygments_lexer": "ipython3",
   "version": "3.9.20"
  }
 },
 "nbformat": 4,
 "nbformat_minor": 4
}
